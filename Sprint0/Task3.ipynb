{
 "cells": [
  {
   "cell_type": "markdown",
   "metadata": {},
   "source": [
    "<h1 style=\"color:DodgerBlue\">Индивидальный проект</h1>"
   ]
  },
  {
   "cell_type": "markdown",
   "metadata": {},
   "source": [
    "<h2 style=\"color:DodgerBlue\">Название проекта:</h2>\n",
    "\n",
    "Класс Notification\n",
    "\n",
    "### Вариант задания #24\n"
   ]
  },
  {
   "cell_type": "markdown",
   "metadata": {},
   "source": [
    "<h2 style=\"color:DodgerBlue\">Описание проекта:</h2>\n",
    "\n",
    "----\n",
    "\n",
    "Описание задачи:\n",
    "Создать базовый класс Notification в C#, который будет представлять уведомления\n",
    "пользователям. На основе этого класса разработать 2-3 производных класса,\n",
    "демонстрирующих принципы наследования и полиморфизма. В каждом из классов\n",
    "должны быть реализованы новые атрибуты и методы, а также переопределены\n",
    "некоторые методы базового класса для демонстрации полиморфизма.\n",
    "Требования к базовому классу Notification:\n",
    "• Атрибуты: ID уведомления (NotificationId), Текст уведомления (MessageText),\n",
    "Тип уведомления (Type).\n",
    "• Методы:\n",
    "o DisplayNotification(): метод для отображения уведомления\n",
    "пользователю.\n",
    "o SendNotification(): метод для отправки уведомления.\n",
    "o GetNotificationDetails(): метод для получения деталей уведомления.\n",
    "Требования к производным классам:\n",
    "1. EmailУведомление (EmailNotification): Должно содержать дополнительные\n",
    "атрибуты, такие как Адрес электронной почты (EmailAddress).\n",
    "Метод SendNotification() должен быть переопределен для отправки\n",
    "уведомления по электронной почте.\n",
    "2. SMSУведомление (SMSNotification): Должно содержать дополнительные\n",
    "атрибуты, такие как Номер телефона (PhoneNumber).\n",
    "Метод SendNotification() должен быть переопределен для отправки\n",
    "уведомления через SMS.\n",
    "3. PushУведомление (PushNotification) (если требуется третий класс): Должно\n",
    "содержать дополнительные атрибуты, такие как Платформа (Platform,\n",
    "например, iOS или Android). Метод DisplayNotification() должен быть\n",
    "переопределен для отображения уведомления на мобильной платформе.\n"
   ]
  },
  {
   "cell_type": "markdown",
   "metadata": {},
   "source": [
    "<h2 style=\"color:DodgerBlue\">Реализация:</h2>\n",
    "\n",
    "----"
   ]
  },
  {
   "cell_type": "code",
   "execution_count": 2,
   "metadata": {
    "dotnet_interactive": {
     "language": "csharp"
    },
    "polyglot_notebook": {
     "kernelName": "csharp"
    }
   },
   "outputs": [],
   "source": [
    "using System.Runtime.Intrinsics.X86;\n",
    "\n",
    "\n",
    "    enum MessageType\n",
    "    { \n",
    "        TEXT,\n",
    "        IMAGE,\n",
    "        VIDEO,\n",
    "        FILE\n",
    "    };\n",
    "\n",
    "    enum Platform\n",
    "    {\n",
    "        IOS,\n",
    "        ANDROID,\n",
    "        PC\n",
    "    }\n",
    "\n",
    "    interface IDisplayNotif\n",
    "    {\n",
    "        void DisplayNotification();\n",
    "    }\n",
    "\n",
    "    interface ISendNotif\n",
    "    {\n",
    "        void SendNotification(string recipient);\n",
    "    }\n",
    "\n",
    "    interface IGotNotif\n",
    "    {\n",
    "        void GetNotificationDetails();\n",
    "    }\n",
    "\n",
    "    class Notification : IDisplayNotif, ISendNotif, IGotNotif\n",
    "    {\n",
    "        int _notificationid;\n",
    "        protected MessageType _type;\n",
    "        protected string _messageText;\n",
    "        \n",
    "        public Notification(MessageType type, string messageText)\n",
    "        {\n",
    "            _notificationid = new Random().Next(0, 999999);\n",
    "            _type = type;\n",
    "            _messageText = messageText;\n",
    "        }\n",
    "\n",
    "        public void DisplayNotification()\n",
    "        { \n",
    "            Console.WriteLine(_messageText);\n",
    "        }\n",
    "\n",
    "        public virtual void SendNotification(string recipient)\n",
    "        {\n",
    "            Console.WriteLine(_notificationid.ToString(), \" was send to \", recipient);\n",
    "        }\n",
    "\n",
    "        public void GetNotificationDetails()\n",
    "        {\n",
    "            Console.WriteLine(\"notif id: \", _notificationid.ToString(), \";\");\n",
    "            Console.WriteLine(\"type: \", _type);\n",
    "            Console.WriteLine(\"message: \", _messageText);\n",
    "        }\n",
    "        \n",
    "    };\n",
    "\n",
    "    class EmailNotification : Notification\n",
    "    { \n",
    "        string _emailAdress;\n",
    "\n",
    "        EmailNotification(MessageType type, string messageText, string email) : base(type, messageText)\n",
    "        {\n",
    "            _emailAdress = email;\n",
    "        }\n",
    "\n",
    "        public override void SendNotification(string recipient)\n",
    "        {\n",
    "            Console.WriteLine(\"Notification sent from \", _emailAdress, \" to \", recipient);\n",
    "        }\n",
    "    };\n",
    "\n",
    "    class SMSNotification : Notification\n",
    "    {\n",
    "        string _phoneNumber;\n",
    "\n",
    "        SMSNotification(MessageType type, string messageText, string phoneNumber) : base(type, messageText) \n",
    "        { \n",
    "            _phoneNumber = phoneNumber;\n",
    "        }\n",
    "\n",
    "        public override void SendNotification(string recipient)\n",
    "        {\n",
    "            Console.WriteLine(\"Notification sent from \", _phoneNumber, \" to \", recipient);\n",
    "        }\n",
    "    };\n",
    "\n",
    "    class PushNotification : Notification, IDisplayNotif, ISendNotif, IGotNotif\n",
    "    {\n",
    "        Platform _platform;\n",
    "\n",
    "        PushNotification(MessageType type, string messageText, Platform platform) : base(type, messageText) \n",
    "        {\n",
    "            _platform = platform;\n",
    "        }\n",
    "\n",
    "        public override void SendNotification(string recipient)\n",
    "        {\n",
    "            if(_platform == Platform.IOS)\n",
    "                Console.WriteLine(\"Notification sent to \", recipient, \" platrofotm: IOS\");\n",
    "            if (_platform == Platform.ANDROID)\n",
    "                Console.WriteLine(\"Notification sent to \", recipient, \" platrofotm: ANDROID\");\n",
    "            if (_platform == Platform.PC)\n",
    "                Console.WriteLine(\"Notification sent to \", recipient, \" platrofotm: PC\");\n",
    "        }\n",
    "    };"
   ]
  }
 ],
 "metadata": {
  "kernelspec": {
   "display_name": ".NET (C#)",
   "language": "C#",
   "name": ".net-csharp"
  },
  "polyglot_notebook": {
   "kernelInfo": {
    "defaultKernelName": "csharp",
    "items": [
     {
      "aliases": [],
      "languageName": "csharp",
      "name": "csharp"
     }
    ]
   }
  }
 },
 "nbformat": 4,
 "nbformat_minor": 2
}
