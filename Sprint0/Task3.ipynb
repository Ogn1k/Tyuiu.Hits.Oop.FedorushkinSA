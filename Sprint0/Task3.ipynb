{
 "cells": [
  {
   "cell_type": "markdown",
   "metadata": {},
   "source": [
    "<h1 style=\"color:DodgerBlue\">Индивидальный проект</h1>"
   ]
  },
  {
   "cell_type": "markdown",
   "metadata": {},
   "source": [
    "<h2 style=\"color:DodgerBlue\">Название проекта:</h2>\n",
    "\n",
    "Класс Notification\n",
    "\n",
    "### Вариант задания #24\n"
   ]
  },
  {
   "cell_type": "markdown",
   "metadata": {},
   "source": [
    "<h2 style=\"color:DodgerBlue\">Описание проекта:</h2>\n",
    "\n",
    "----\n",
    "\n",
    "[ваш текст]\n"
   ]
  },
  {
   "cell_type": "markdown",
   "metadata": {},
   "source": [
    "<h2 style=\"color:DodgerBlue\">Реализация:</h2>\n",
    "\n",
    "----"
   ]
  },
  {
   "cell_type": "code",
   "execution_count": 2,
   "metadata": {
    "dotnet_interactive": {
     "language": "csharp"
    },
    "polyglot_notebook": {
     "kernelName": "csharp"
    }
   },
   "outputs": [],
   "source": [
    "using System.Runtime.Intrinsics.X86;\n",
    "\n",
    "namespace Program1\n",
    "{\n",
    "    enum MessageType\n",
    "    { \n",
    "        TEXT = 0,\n",
    "        IMAGE,\n",
    "        VIDEO,\n",
    "        FILE\n",
    "    };\n",
    "\n",
    "    enum Platform\n",
    "    {\n",
    "        IOS,\n",
    "        ANDROID,\n",
    "        PC\n",
    "    }\n",
    "\n",
    "    class Notification\n",
    "    {\n",
    "        int _notificationid;\n",
    "        protected String _type;\n",
    "        protected String _messageText;\n",
    "        \n",
    "        public Notification(String type, String messageText)\n",
    "        {\n",
    "            _notificationid = new Random().Next(0, 999999);\n",
    "            _type = type;\n",
    "            _messageText = messageText;\n",
    "        }\n",
    "\n",
    "        public void DisplayNotification()\n",
    "        { \n",
    "            Console.WriteLine(_messageText);\n",
    "        }\n",
    "\n",
    "        virtual public void SendNotification(String recipient)\n",
    "        {\n",
    "            Console.WriteLine(_notificationid.ToString(), \" was send to \", recipient);\n",
    "        }\n",
    "\n",
    "        public void GetNotificationDetails()\n",
    "        {\n",
    "            Console.WriteLine(\"notif id: \", _notificationid.ToString(), \";\");\n",
    "            Console.WriteLine(\"type: \", _type);\n",
    "            Console.WriteLine(\"message: \", _messageText);\n",
    "        }\n",
    "        \n",
    "    };\n",
    "\n",
    "    class EmailNotification : Notification \n",
    "    { \n",
    "        String _emailAdress;\n",
    "\n",
    "        EmailNotification(String type, String messageText, String email) : base(type, messageText)\n",
    "        {\n",
    "            _emailAdress = email;\n",
    "        }\n",
    "\n",
    "        override public void SendNotification(String recipientEmail)\n",
    "        {\n",
    "            Console.WriteLine(\"Notification sent from \", _emailAdress, \" to \", recipientEmail);\n",
    "        }\n",
    "    };\n",
    "\n",
    "    class SMSNotification : Notification\n",
    "    {\n",
    "        String _phoneNumber;\n",
    "\n",
    "        SMSNotification(String type, String messageText, String phoneNumber) : base(type, messageText) \n",
    "        { \n",
    "            _phoneNumber = phoneNumber;\n",
    "        }\n",
    "\n",
    "        override public void SendNotification(String recipientPhone)\n",
    "        {\n",
    "            Console.WriteLine(\"Notification sent from \", _phoneNumber, \" to \", recipientPhone);\n",
    "        }\n",
    "    };\n",
    "\n",
    "    class PushNotification : Notification\n",
    "    {\n",
    "        Platform _platform;\n",
    "\n",
    "        PushNotification(String type, String messageText, Platform platform) : base(type, messageText) \n",
    "        {\n",
    "            _platform = platform;\n",
    "        }\n",
    "\n",
    "        override public void SendNotification(String recipient)\n",
    "        {\n",
    "            if(_platform == Platform.IOS)\n",
    "                Console.WriteLine(\"Notification sent to \", recipient, \" platrofotm: IOS\");\n",
    "            if (_platform == Platform.ANDROID)\n",
    "                Console.WriteLine(\"Notification sent to \", recipient, \" platrofotm: ANDROID\");\n",
    "            if (_platform == Platform.PC)\n",
    "                Console.WriteLine(\"Notification sent to \", recipient, \" platrofotm: PC\");\n",
    "        }\n",
    "    };\n",
    "}"
   ]
  }
 ],
 "metadata": {
  "kernelspec": {
   "display_name": ".NET (C#)",
   "language": "C#",
   "name": ".net-csharp"
  },
  "polyglot_notebook": {
   "kernelInfo": {
    "defaultKernelName": "csharp",
    "items": [
     {
      "aliases": [],
      "languageName": "csharp",
      "name": "csharp"
     }
    ]
   }
  }
 },
 "nbformat": 4,
 "nbformat_minor": 2
}
